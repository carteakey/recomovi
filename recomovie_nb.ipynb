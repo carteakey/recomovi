{
 "metadata": {
  "language_info": {
   "codemirror_mode": {
    "name": "ipython",
    "version": 3
   },
   "file_extension": ".py",
   "mimetype": "text/x-python",
   "name": "python",
   "nbconvert_exporter": "python",
   "pygments_lexer": "ipython3",
   "version": "3.9.4"
  },
  "orig_nbformat": 2,
  "kernelspec": {
   "name": "python394jvsc74a57bd00585617d29b588145c03dfd343559c1a3627cb03145fe030c709f1b2c6042809",
   "display_name": "Python 3.9.4 64-bit"
  },
  "metadata": {
   "interpreter": {
    "hash": "0585617d29b588145c03dfd343559c1a3627cb03145fe030c709f1b2c6042809"
   }
  }
 },
 "nbformat": 4,
 "nbformat_minor": 2,
 "cells": [
  {
   "source": [
    "Import required packages"
   ],
   "cell_type": "markdown",
   "metadata": {}
  },
  {
   "cell_type": "code",
   "execution_count": 13,
   "metadata": {
    "tags": []
   },
   "outputs": [],
   "source": [
    "import pandas as pd\n",
    "import numpy as np\n",
    "import matplotlib\n",
    "import os\n",
    "from rake_nltk import Rake\n",
    "from sklearn.metrics.pairwise import cosine_similarity\n",
    "from sklearn.feature_extraction.text import CountVectorizer"
   ]
  },
  {
   "source": [
    "#### Web Scraping - IMDb\n",
    "Uncomment to run scraper, which will reload existing csv.\n",
    "This scaper makes asynchronous requests to the IMDb Advanced Search page and fetches Top 250 movies by popularity for each year in 1990-2021. Random waits between each year's requests."
   ],
   "cell_type": "markdown",
   "metadata": {}
  },
  {
   "cell_type": "code",
   "execution_count": 14,
   "metadata": {},
   "outputs": [],
   "source": [
    "# import nest_asyncio\n",
    "# nest_asyncio.apply()\n",
    "# %run -i scrape_imdb.py"
   ]
  },
  {
   "cell_type": "code",
   "execution_count": 15,
   "metadata": {},
   "outputs": [
    {
     "output_type": "execute_result",
     "data": {
      "text/plain": [
       "  imdb_title_id                        title  year certificate  \\\n",
       "0     tt0099685                   Goodfellas  1990           R   \n",
       "1     tt0099785                   Home Alone  1990          PG   \n",
       "2     tt0099487          Edward Scissorhands  1990       PG-13   \n",
       "3     tt0099088  Back to the Future Part III  1990          PG   \n",
       "4     tt0099674      The Godfather: Part III  1990           R   \n",
       "5     tt0099423                   Die Hard 2  1990           R   \n",
       "6     tt0100802                 Total Recall  1990           R   \n",
       "7     tt0100405                 Pretty Woman  1990           R   \n",
       "8     tt0099348           Dances with Wolves  1990       PG-13   \n",
       "9     tt0099653                        Ghost  1990       PG-13   \n",
       "\n",
       "                       genre  runtime  \\\n",
       "0    Biography, Crime, Drama  146 min   \n",
       "1             Comedy, Family  103 min   \n",
       "2    Drama, Fantasy, Romance  105 min   \n",
       "3  Adventure, Comedy, Sci-Fi  118 min   \n",
       "4               Crime, Drama  162 min   \n",
       "5           Action, Thriller  124 min   \n",
       "6   Action, Sci-Fi, Thriller  113 min   \n",
       "7            Comedy, Romance  119 min   \n",
       "8  Adventure, Drama, Western  181 min   \n",
       "9    Drama, Fantasy, Romance  127 min   \n",
       "\n",
       "                                         description  IMDb_rating  MetaScore  \\\n",
       "0  The story of Henry Hill and his life in the mo...          8.7       90.0   \n",
       "1  An eight-year-old troublemaker must protect hi...          7.6       63.0   \n",
       "2  An artificial man, who was incompletely constr...          7.9       74.0   \n",
       "3  Stranded in 1955, Marty McFly learns about the...          7.4       55.0   \n",
       "4  Follows Michael Corleone, now in his 60s, as h...          7.6       60.0   \n",
       "5  John McClane attempts to avert disaster as rog...          7.1       67.0   \n",
       "6  When a man goes in to have virtual vacation me...          7.5       57.0   \n",
       "7  A man in a legal but hurtful business needs an...          7.0       51.0   \n",
       "8  Lieutenant John Dunbar, assigned to a remote w...          8.0       72.0   \n",
       "9  After a young man is murdered, his spirit stay...          7.1       52.0   \n",
       "\n",
       "   ratingCount             directors  \\\n",
       "0      1044112       Martin Scorsese   \n",
       "1       497130        Chris Columbus   \n",
       "2       453499            Tim Burton   \n",
       "3       412989       Robert Zemeckis   \n",
       "4       368052  Francis Ford Coppola   \n",
       "5       342073          Renny Harlin   \n",
       "6       307833        Paul Verhoeven   \n",
       "7       296814        Garry Marshall   \n",
       "8       245602         Kevin Costner   \n",
       "9       201225          Jerry Zucker   \n",
       "\n",
       "                                               stars  \n",
       "0  Robert De Niro,Ray Liotta,Joe Pesci,Lorraine B...  \n",
       "1  Macaulay Culkin,Joe Pesci,Daniel Stern,John Heard  \n",
       "2  Johnny Depp,Winona Ryder,Dianne Wiest,Anthony ...  \n",
       "3  Michael J. Fox,Christopher Lloyd,Mary Steenbur...  \n",
       "4     Al Pacino,Diane Keaton,Andy Garcia,Talia Shire  \n",
       "5  Bruce Willis,William Atherton,Bonnie Bedelia,R...  \n",
       "6  Arnold Schwarzenegger,Sharon Stone,Michael Iro...  \n",
       "7  Richard Gere,Julia Roberts,Jason Alexander,Lau...  \n",
       "8  Kevin Costner,Mary McDonnell,Graham Greene,Rod...  \n",
       "9  Patrick Swayze,Demi Moore,Whoopi Goldberg,Tony...  "
      ],
      "text/html": "<div>\n<style scoped>\n    .dataframe tbody tr th:only-of-type {\n        vertical-align: middle;\n    }\n\n    .dataframe tbody tr th {\n        vertical-align: top;\n    }\n\n    .dataframe thead th {\n        text-align: right;\n    }\n</style>\n<table border=\"1\" class=\"dataframe\">\n  <thead>\n    <tr style=\"text-align: right;\">\n      <th></th>\n      <th>imdb_title_id</th>\n      <th>title</th>\n      <th>year</th>\n      <th>certificate</th>\n      <th>genre</th>\n      <th>runtime</th>\n      <th>description</th>\n      <th>IMDb_rating</th>\n      <th>MetaScore</th>\n      <th>ratingCount</th>\n      <th>directors</th>\n      <th>stars</th>\n    </tr>\n  </thead>\n  <tbody>\n    <tr>\n      <th>0</th>\n      <td>tt0099685</td>\n      <td>Goodfellas</td>\n      <td>1990</td>\n      <td>R</td>\n      <td>Biography, Crime, Drama</td>\n      <td>146 min</td>\n      <td>The story of Henry Hill and his life in the mo...</td>\n      <td>8.7</td>\n      <td>90.0</td>\n      <td>1044112</td>\n      <td>Martin Scorsese</td>\n      <td>Robert De Niro,Ray Liotta,Joe Pesci,Lorraine B...</td>\n    </tr>\n    <tr>\n      <th>1</th>\n      <td>tt0099785</td>\n      <td>Home Alone</td>\n      <td>1990</td>\n      <td>PG</td>\n      <td>Comedy, Family</td>\n      <td>103 min</td>\n      <td>An eight-year-old troublemaker must protect hi...</td>\n      <td>7.6</td>\n      <td>63.0</td>\n      <td>497130</td>\n      <td>Chris Columbus</td>\n      <td>Macaulay Culkin,Joe Pesci,Daniel Stern,John Heard</td>\n    </tr>\n    <tr>\n      <th>2</th>\n      <td>tt0099487</td>\n      <td>Edward Scissorhands</td>\n      <td>1990</td>\n      <td>PG-13</td>\n      <td>Drama, Fantasy, Romance</td>\n      <td>105 min</td>\n      <td>An artificial man, who was incompletely constr...</td>\n      <td>7.9</td>\n      <td>74.0</td>\n      <td>453499</td>\n      <td>Tim Burton</td>\n      <td>Johnny Depp,Winona Ryder,Dianne Wiest,Anthony ...</td>\n    </tr>\n    <tr>\n      <th>3</th>\n      <td>tt0099088</td>\n      <td>Back to the Future Part III</td>\n      <td>1990</td>\n      <td>PG</td>\n      <td>Adventure, Comedy, Sci-Fi</td>\n      <td>118 min</td>\n      <td>Stranded in 1955, Marty McFly learns about the...</td>\n      <td>7.4</td>\n      <td>55.0</td>\n      <td>412989</td>\n      <td>Robert Zemeckis</td>\n      <td>Michael J. Fox,Christopher Lloyd,Mary Steenbur...</td>\n    </tr>\n    <tr>\n      <th>4</th>\n      <td>tt0099674</td>\n      <td>The Godfather: Part III</td>\n      <td>1990</td>\n      <td>R</td>\n      <td>Crime, Drama</td>\n      <td>162 min</td>\n      <td>Follows Michael Corleone, now in his 60s, as h...</td>\n      <td>7.6</td>\n      <td>60.0</td>\n      <td>368052</td>\n      <td>Francis Ford Coppola</td>\n      <td>Al Pacino,Diane Keaton,Andy Garcia,Talia Shire</td>\n    </tr>\n    <tr>\n      <th>5</th>\n      <td>tt0099423</td>\n      <td>Die Hard 2</td>\n      <td>1990</td>\n      <td>R</td>\n      <td>Action, Thriller</td>\n      <td>124 min</td>\n      <td>John McClane attempts to avert disaster as rog...</td>\n      <td>7.1</td>\n      <td>67.0</td>\n      <td>342073</td>\n      <td>Renny Harlin</td>\n      <td>Bruce Willis,William Atherton,Bonnie Bedelia,R...</td>\n    </tr>\n    <tr>\n      <th>6</th>\n      <td>tt0100802</td>\n      <td>Total Recall</td>\n      <td>1990</td>\n      <td>R</td>\n      <td>Action, Sci-Fi, Thriller</td>\n      <td>113 min</td>\n      <td>When a man goes in to have virtual vacation me...</td>\n      <td>7.5</td>\n      <td>57.0</td>\n      <td>307833</td>\n      <td>Paul Verhoeven</td>\n      <td>Arnold Schwarzenegger,Sharon Stone,Michael Iro...</td>\n    </tr>\n    <tr>\n      <th>7</th>\n      <td>tt0100405</td>\n      <td>Pretty Woman</td>\n      <td>1990</td>\n      <td>R</td>\n      <td>Comedy, Romance</td>\n      <td>119 min</td>\n      <td>A man in a legal but hurtful business needs an...</td>\n      <td>7.0</td>\n      <td>51.0</td>\n      <td>296814</td>\n      <td>Garry Marshall</td>\n      <td>Richard Gere,Julia Roberts,Jason Alexander,Lau...</td>\n    </tr>\n    <tr>\n      <th>8</th>\n      <td>tt0099348</td>\n      <td>Dances with Wolves</td>\n      <td>1990</td>\n      <td>PG-13</td>\n      <td>Adventure, Drama, Western</td>\n      <td>181 min</td>\n      <td>Lieutenant John Dunbar, assigned to a remote w...</td>\n      <td>8.0</td>\n      <td>72.0</td>\n      <td>245602</td>\n      <td>Kevin Costner</td>\n      <td>Kevin Costner,Mary McDonnell,Graham Greene,Rod...</td>\n    </tr>\n    <tr>\n      <th>9</th>\n      <td>tt0099653</td>\n      <td>Ghost</td>\n      <td>1990</td>\n      <td>PG-13</td>\n      <td>Drama, Fantasy, Romance</td>\n      <td>127 min</td>\n      <td>After a young man is murdered, his spirit stay...</td>\n      <td>7.1</td>\n      <td>52.0</td>\n      <td>201225</td>\n      <td>Jerry Zucker</td>\n      <td>Patrick Swayze,Demi Moore,Whoopi Goldberg,Tony...</td>\n    </tr>\n  </tbody>\n</table>\n</div>"
     },
     "metadata": {},
     "execution_count": 15
    }
   ],
   "source": [
    "#read csv to dataframe\n",
    "df = pd.read_csv('data.csv')\n",
    "df['stars'].fillna('', inplace = True)\n",
    "df.head(10)"
   ]
  },
  {
   "cell_type": "code",
   "execution_count": 16,
   "metadata": {},
   "outputs": [
    {
     "output_type": "display_data",
     "data": {
      "text/plain": "<Figure size 432x288 with 1 Axes>",
      "image/svg+xml": "<?xml version=\"1.0\" encoding=\"utf-8\" standalone=\"no\"?>\r\n<!DOCTYPE svg PUBLIC \"-//W3C//DTD SVG 1.1//EN\"\r\n  \"http://www.w3.org/Graphics/SVG/1.1/DTD/svg11.dtd\">\r\n<svg height=\"248.518125pt\" version=\"1.1\" viewBox=\"0 0 453.827217 248.518125\" width=\"453.827217pt\" xmlns=\"http://www.w3.org/2000/svg\" xmlns:xlink=\"http://www.w3.org/1999/xlink\">\r\n <metadata>\r\n  <rdf:RDF xmlns:cc=\"http://creativecommons.org/ns#\" xmlns:dc=\"http://purl.org/dc/elements/1.1/\" xmlns:rdf=\"http://www.w3.org/1999/02/22-rdf-syntax-ns#\">\r\n   <cc:Work>\r\n    <dc:type rdf:resource=\"http://purl.org/dc/dcmitype/StillImage\"/>\r\n    <dc:date>2021-05-31T20:52:30.073994</dc:date>\r\n    <dc:format>image/svg+xml</dc:format>\r\n    <dc:creator>\r\n     <cc:Agent>\r\n      <dc:title>Matplotlib v3.4.2, https://matplotlib.org/</dc:title>\r\n     </cc:Agent>\r\n    </dc:creator>\r\n   </cc:Work>\r\n  </rdf:RDF>\r\n </metadata>\r\n <defs>\r\n  <style type=\"text/css\">*{stroke-linecap:butt;stroke-linejoin:round;}</style>\r\n </defs>\r\n <g id=\"figure_1\">\r\n  <g id=\"patch_1\">\r\n   <path d=\"M 0 248.518125 \r\nL 453.827217 248.518125 \r\nL 453.827217 0 \r\nL 0 0 \r\nz\r\n\" style=\"fill:none;\"/>\r\n  </g>\r\n  <g id=\"axes_1\">\r\n   <g id=\"patch_2\">\r\n    <path d=\"M 110.4125 224.64 \r\nL 445.2125 224.64 \r\nL 445.2125 7.2 \r\nL 110.4125 7.2 \r\nz\r\n\" style=\"fill:#ffffff;\"/>\r\n   </g>\r\n   <g id=\"patch_3\">\r\n    <path clip-path=\"url(#p0e45da6db5)\" d=\"M 110.4125 12.636 \r\nL 429.269643 12.636 \r\nL 429.269643 23.508 \r\nL 110.4125 23.508 \r\nz\r\n\" style=\"fill:#1f77b4;\"/>\r\n   </g>\r\n   <g id=\"patch_4\">\r\n    <path clip-path=\"url(#p0e45da6db5)\" d=\"M 110.4125 34.38 \r\nL 429.269643 34.38 \r\nL 429.269643 45.252 \r\nL 110.4125 45.252 \r\nz\r\n\" style=\"fill:#1f77b4;\"/>\r\n   </g>\r\n   <g id=\"patch_5\">\r\n    <path clip-path=\"url(#p0e45da6db5)\" d=\"M 110.4125 56.124 \r\nL 385.289347 56.124 \r\nL 385.289347 66.996 \r\nL 110.4125 66.996 \r\nz\r\n\" style=\"fill:#1f77b4;\"/>\r\n   </g>\r\n   <g id=\"patch_6\">\r\n    <path clip-path=\"url(#p0e45da6db5)\" d=\"M 110.4125 77.868 \r\nL 330.313978 77.868 \r\nL 330.313978 88.74 \r\nL 110.4125 88.74 \r\nz\r\n\" style=\"fill:#1f77b4;\"/>\r\n   </g>\r\n   <g id=\"patch_7\">\r\n    <path clip-path=\"url(#p0e45da6db5)\" d=\"M 110.4125 99.612 \r\nL 319.318904 99.612 \r\nL 319.318904 110.484 \r\nL 110.4125 110.484 \r\nz\r\n\" style=\"fill:#1f77b4;\"/>\r\n   </g>\r\n   <g id=\"patch_8\">\r\n    <path clip-path=\"url(#p0e45da6db5)\" d=\"M 110.4125 121.356 \r\nL 319.318904 121.356 \r\nL 319.318904 132.228 \r\nL 110.4125 132.228 \r\nz\r\n\" style=\"fill:#1f77b4;\"/>\r\n   </g>\r\n   <g id=\"patch_9\">\r\n    <path clip-path=\"url(#p0e45da6db5)\" d=\"M 110.4125 143.1 \r\nL 319.318904 143.1 \r\nL 319.318904 153.972 \r\nL 110.4125 153.972 \r\nz\r\n\" style=\"fill:#1f77b4;\"/>\r\n   </g>\r\n   <g id=\"patch_10\">\r\n    <path clip-path=\"url(#p0e45da6db5)\" d=\"M 110.4125 164.844 \r\nL 297.328756 164.844 \r\nL 297.328756 175.716 \r\nL 110.4125 175.716 \r\nz\r\n\" style=\"fill:#1f77b4;\"/>\r\n   </g>\r\n   <g id=\"patch_11\">\r\n    <path clip-path=\"url(#p0e45da6db5)\" d=\"M 110.4125 186.588 \r\nL 297.328756 186.588 \r\nL 297.328756 197.46 \r\nL 110.4125 197.46 \r\nz\r\n\" style=\"fill:#1f77b4;\"/>\r\n   </g>\r\n   <g id=\"patch_12\">\r\n    <path clip-path=\"url(#p0e45da6db5)\" d=\"M 110.4125 208.332 \r\nL 286.333682 208.332 \r\nL 286.333682 219.204 \r\nL 110.4125 219.204 \r\nz\r\n\" style=\"fill:#1f77b4;\"/>\r\n   </g>\r\n   <g id=\"matplotlib.axis_1\">\r\n    <g id=\"xtick_1\">\r\n     <g id=\"line2d_1\">\r\n      <defs>\r\n       <path d=\"M 0 0 \r\nL 0 3.5 \r\n\" id=\"m90301e9d1a\" style=\"stroke:#000000;stroke-width:0.8;\"/>\r\n      </defs>\r\n      <g>\r\n       <use style=\"stroke:#000000;stroke-width:0.8;\" x=\"110.4125\" xlink:href=\"#m90301e9d1a\" y=\"224.64\"/>\r\n      </g>\r\n     </g>\r\n     <g id=\"text_1\">\r\n      <!-- 0 -->\r\n      <g transform=\"translate(107.23125 239.238437)scale(0.1 -0.1)\">\r\n       <defs>\r\n        <path d=\"M 2034 4250 \r\nQ 1547 4250 1301 3770 \r\nQ 1056 3291 1056 2328 \r\nQ 1056 1369 1301 889 \r\nQ 1547 409 2034 409 \r\nQ 2525 409 2770 889 \r\nQ 3016 1369 3016 2328 \r\nQ 3016 3291 2770 3770 \r\nQ 2525 4250 2034 4250 \r\nz\r\nM 2034 4750 \r\nQ 2819 4750 3233 4129 \r\nQ 3647 3509 3647 2328 \r\nQ 3647 1150 3233 529 \r\nQ 2819 -91 2034 -91 \r\nQ 1250 -91 836 529 \r\nQ 422 1150 422 2328 \r\nQ 422 3509 836 4129 \r\nQ 1250 4750 2034 4750 \r\nz\r\n\" id=\"DejaVuSans-30\" transform=\"scale(0.015625)\"/>\r\n       </defs>\r\n       <use xlink:href=\"#DejaVuSans-30\"/>\r\n      </g>\r\n     </g>\r\n    </g>\r\n    <g id=\"xtick_2\">\r\n     <g id=\"line2d_2\">\r\n      <g>\r\n       <use style=\"stroke:#000000;stroke-width:0.8;\" x=\"165.387869\" xlink:href=\"#m90301e9d1a\" y=\"224.64\"/>\r\n      </g>\r\n     </g>\r\n     <g id=\"text_2\">\r\n      <!-- 5 -->\r\n      <g transform=\"translate(162.206619 239.238437)scale(0.1 -0.1)\">\r\n       <defs>\r\n        <path d=\"M 691 4666 \r\nL 3169 4666 \r\nL 3169 4134 \r\nL 1269 4134 \r\nL 1269 2991 \r\nQ 1406 3038 1543 3061 \r\nQ 1681 3084 1819 3084 \r\nQ 2600 3084 3056 2656 \r\nQ 3513 2228 3513 1497 \r\nQ 3513 744 3044 326 \r\nQ 2575 -91 1722 -91 \r\nQ 1428 -91 1123 -41 \r\nQ 819 9 494 109 \r\nL 494 744 \r\nQ 775 591 1075 516 \r\nQ 1375 441 1709 441 \r\nQ 2250 441 2565 725 \r\nQ 2881 1009 2881 1497 \r\nQ 2881 1984 2565 2268 \r\nQ 2250 2553 1709 2553 \r\nQ 1456 2553 1204 2497 \r\nQ 953 2441 691 2322 \r\nL 691 4666 \r\nz\r\n\" id=\"DejaVuSans-35\" transform=\"scale(0.015625)\"/>\r\n       </defs>\r\n       <use xlink:href=\"#DejaVuSans-35\"/>\r\n      </g>\r\n     </g>\r\n    </g>\r\n    <g id=\"xtick_3\">\r\n     <g id=\"line2d_3\">\r\n      <g>\r\n       <use style=\"stroke:#000000;stroke-width:0.8;\" x=\"220.363239\" xlink:href=\"#m90301e9d1a\" y=\"224.64\"/>\r\n      </g>\r\n     </g>\r\n     <g id=\"text_3\">\r\n      <!-- 10 -->\r\n      <g transform=\"translate(214.000739 239.238437)scale(0.1 -0.1)\">\r\n       <defs>\r\n        <path d=\"M 794 531 \r\nL 1825 531 \r\nL 1825 4091 \r\nL 703 3866 \r\nL 703 4441 \r\nL 1819 4666 \r\nL 2450 4666 \r\nL 2450 531 \r\nL 3481 531 \r\nL 3481 0 \r\nL 794 0 \r\nL 794 531 \r\nz\r\n\" id=\"DejaVuSans-31\" transform=\"scale(0.015625)\"/>\r\n       </defs>\r\n       <use xlink:href=\"#DejaVuSans-31\"/>\r\n       <use x=\"63.623047\" xlink:href=\"#DejaVuSans-30\"/>\r\n      </g>\r\n     </g>\r\n    </g>\r\n    <g id=\"xtick_4\">\r\n     <g id=\"line2d_4\">\r\n      <g>\r\n       <use style=\"stroke:#000000;stroke-width:0.8;\" x=\"275.338608\" xlink:href=\"#m90301e9d1a\" y=\"224.64\"/>\r\n      </g>\r\n     </g>\r\n     <g id=\"text_4\">\r\n      <!-- 15 -->\r\n      <g transform=\"translate(268.976108 239.238437)scale(0.1 -0.1)\">\r\n       <use xlink:href=\"#DejaVuSans-31\"/>\r\n       <use x=\"63.623047\" xlink:href=\"#DejaVuSans-35\"/>\r\n      </g>\r\n     </g>\r\n    </g>\r\n    <g id=\"xtick_5\">\r\n     <g id=\"line2d_5\">\r\n      <g>\r\n       <use style=\"stroke:#000000;stroke-width:0.8;\" x=\"330.313978\" xlink:href=\"#m90301e9d1a\" y=\"224.64\"/>\r\n      </g>\r\n     </g>\r\n     <g id=\"text_5\">\r\n      <!-- 20 -->\r\n      <g transform=\"translate(323.951478 239.238437)scale(0.1 -0.1)\">\r\n       <defs>\r\n        <path d=\"M 1228 531 \r\nL 3431 531 \r\nL 3431 0 \r\nL 469 0 \r\nL 469 531 \r\nQ 828 903 1448 1529 \r\nQ 2069 2156 2228 2338 \r\nQ 2531 2678 2651 2914 \r\nQ 2772 3150 2772 3378 \r\nQ 2772 3750 2511 3984 \r\nQ 2250 4219 1831 4219 \r\nQ 1534 4219 1204 4116 \r\nQ 875 4013 500 3803 \r\nL 500 4441 \r\nQ 881 4594 1212 4672 \r\nQ 1544 4750 1819 4750 \r\nQ 2544 4750 2975 4387 \r\nQ 3406 4025 3406 3419 \r\nQ 3406 3131 3298 2873 \r\nQ 3191 2616 2906 2266 \r\nQ 2828 2175 2409 1742 \r\nQ 1991 1309 1228 531 \r\nz\r\n\" id=\"DejaVuSans-32\" transform=\"scale(0.015625)\"/>\r\n       </defs>\r\n       <use xlink:href=\"#DejaVuSans-32\"/>\r\n       <use x=\"63.623047\" xlink:href=\"#DejaVuSans-30\"/>\r\n      </g>\r\n     </g>\r\n    </g>\r\n    <g id=\"xtick_6\">\r\n     <g id=\"line2d_6\">\r\n      <g>\r\n       <use style=\"stroke:#000000;stroke-width:0.8;\" x=\"385.289347\" xlink:href=\"#m90301e9d1a\" y=\"224.64\"/>\r\n      </g>\r\n     </g>\r\n     <g id=\"text_6\">\r\n      <!-- 25 -->\r\n      <g transform=\"translate(378.926847 239.238437)scale(0.1 -0.1)\">\r\n       <use xlink:href=\"#DejaVuSans-32\"/>\r\n       <use x=\"63.623047\" xlink:href=\"#DejaVuSans-35\"/>\r\n      </g>\r\n     </g>\r\n    </g>\r\n    <g id=\"xtick_7\">\r\n     <g id=\"line2d_7\">\r\n      <g>\r\n       <use style=\"stroke:#000000;stroke-width:0.8;\" x=\"440.264717\" xlink:href=\"#m90301e9d1a\" y=\"224.64\"/>\r\n      </g>\r\n     </g>\r\n     <g id=\"text_7\">\r\n      <!-- 30 -->\r\n      <g transform=\"translate(433.902217 239.238437)scale(0.1 -0.1)\">\r\n       <defs>\r\n        <path d=\"M 2597 2516 \r\nQ 3050 2419 3304 2112 \r\nQ 3559 1806 3559 1356 \r\nQ 3559 666 3084 287 \r\nQ 2609 -91 1734 -91 \r\nQ 1441 -91 1130 -33 \r\nQ 819 25 488 141 \r\nL 488 750 \r\nQ 750 597 1062 519 \r\nQ 1375 441 1716 441 \r\nQ 2309 441 2620 675 \r\nQ 2931 909 2931 1356 \r\nQ 2931 1769 2642 2001 \r\nQ 2353 2234 1838 2234 \r\nL 1294 2234 \r\nL 1294 2753 \r\nL 1863 2753 \r\nQ 2328 2753 2575 2939 \r\nQ 2822 3125 2822 3475 \r\nQ 2822 3834 2567 4026 \r\nQ 2313 4219 1838 4219 \r\nQ 1578 4219 1281 4162 \r\nQ 984 4106 628 3988 \r\nL 628 4550 \r\nQ 988 4650 1302 4700 \r\nQ 1616 4750 1894 4750 \r\nQ 2613 4750 3031 4423 \r\nQ 3450 4097 3450 3541 \r\nQ 3450 3153 3228 2886 \r\nQ 3006 2619 2597 2516 \r\nz\r\n\" id=\"DejaVuSans-33\" transform=\"scale(0.015625)\"/>\r\n       </defs>\r\n       <use xlink:href=\"#DejaVuSans-33\"/>\r\n       <use x=\"63.623047\" xlink:href=\"#DejaVuSans-30\"/>\r\n      </g>\r\n     </g>\r\n    </g>\r\n   </g>\r\n   <g id=\"matplotlib.axis_2\">\r\n    <g id=\"ytick_1\">\r\n     <g id=\"line2d_8\">\r\n      <defs>\r\n       <path d=\"M 0 0 \r\nL -3.5 0 \r\n\" id=\"m7e0cb1a809\" style=\"stroke:#000000;stroke-width:0.8;\"/>\r\n      </defs>\r\n      <g>\r\n       <use style=\"stroke:#000000;stroke-width:0.8;\" x=\"110.4125\" xlink:href=\"#m7e0cb1a809\" y=\"18.072\"/>\r\n      </g>\r\n     </g>\r\n     <g id=\"text_8\">\r\n      <!-- Woody Allen -->\r\n      <g transform=\"translate(41.542187 21.871219)scale(0.1 -0.1)\">\r\n       <defs>\r\n        <path d=\"M 213 4666 \r\nL 850 4666 \r\nL 1831 722 \r\nL 2809 4666 \r\nL 3519 4666 \r\nL 4500 722 \r\nL 5478 4666 \r\nL 6119 4666 \r\nL 4947 0 \r\nL 4153 0 \r\nL 3169 4050 \r\nL 2175 0 \r\nL 1381 0 \r\nL 213 4666 \r\nz\r\n\" id=\"DejaVuSans-57\" transform=\"scale(0.015625)\"/>\r\n        <path d=\"M 1959 3097 \r\nQ 1497 3097 1228 2736 \r\nQ 959 2375 959 1747 \r\nQ 959 1119 1226 758 \r\nQ 1494 397 1959 397 \r\nQ 2419 397 2687 759 \r\nQ 2956 1122 2956 1747 \r\nQ 2956 2369 2687 2733 \r\nQ 2419 3097 1959 3097 \r\nz\r\nM 1959 3584 \r\nQ 2709 3584 3137 3096 \r\nQ 3566 2609 3566 1747 \r\nQ 3566 888 3137 398 \r\nQ 2709 -91 1959 -91 \r\nQ 1206 -91 779 398 \r\nQ 353 888 353 1747 \r\nQ 353 2609 779 3096 \r\nQ 1206 3584 1959 3584 \r\nz\r\n\" id=\"DejaVuSans-6f\" transform=\"scale(0.015625)\"/>\r\n        <path d=\"M 2906 2969 \r\nL 2906 4863 \r\nL 3481 4863 \r\nL 3481 0 \r\nL 2906 0 \r\nL 2906 525 \r\nQ 2725 213 2448 61 \r\nQ 2172 -91 1784 -91 \r\nQ 1150 -91 751 415 \r\nQ 353 922 353 1747 \r\nQ 353 2572 751 3078 \r\nQ 1150 3584 1784 3584 \r\nQ 2172 3584 2448 3432 \r\nQ 2725 3281 2906 2969 \r\nz\r\nM 947 1747 \r\nQ 947 1113 1208 752 \r\nQ 1469 391 1925 391 \r\nQ 2381 391 2643 752 \r\nQ 2906 1113 2906 1747 \r\nQ 2906 2381 2643 2742 \r\nQ 2381 3103 1925 3103 \r\nQ 1469 3103 1208 2742 \r\nQ 947 2381 947 1747 \r\nz\r\n\" id=\"DejaVuSans-64\" transform=\"scale(0.015625)\"/>\r\n        <path d=\"M 2059 -325 \r\nQ 1816 -950 1584 -1140 \r\nQ 1353 -1331 966 -1331 \r\nL 506 -1331 \r\nL 506 -850 \r\nL 844 -850 \r\nQ 1081 -850 1212 -737 \r\nQ 1344 -625 1503 -206 \r\nL 1606 56 \r\nL 191 3500 \r\nL 800 3500 \r\nL 1894 763 \r\nL 2988 3500 \r\nL 3597 3500 \r\nL 2059 -325 \r\nz\r\n\" id=\"DejaVuSans-79\" transform=\"scale(0.015625)\"/>\r\n        <path id=\"DejaVuSans-20\" transform=\"scale(0.015625)\"/>\r\n        <path d=\"M 2188 4044 \r\nL 1331 1722 \r\nL 3047 1722 \r\nL 2188 4044 \r\nz\r\nM 1831 4666 \r\nL 2547 4666 \r\nL 4325 0 \r\nL 3669 0 \r\nL 3244 1197 \r\nL 1141 1197 \r\nL 716 0 \r\nL 50 0 \r\nL 1831 4666 \r\nz\r\n\" id=\"DejaVuSans-41\" transform=\"scale(0.015625)\"/>\r\n        <path d=\"M 603 4863 \r\nL 1178 4863 \r\nL 1178 0 \r\nL 603 0 \r\nL 603 4863 \r\nz\r\n\" id=\"DejaVuSans-6c\" transform=\"scale(0.015625)\"/>\r\n        <path d=\"M 3597 1894 \r\nL 3597 1613 \r\nL 953 1613 \r\nQ 991 1019 1311 708 \r\nQ 1631 397 2203 397 \r\nQ 2534 397 2845 478 \r\nQ 3156 559 3463 722 \r\nL 3463 178 \r\nQ 3153 47 2828 -22 \r\nQ 2503 -91 2169 -91 \r\nQ 1331 -91 842 396 \r\nQ 353 884 353 1716 \r\nQ 353 2575 817 3079 \r\nQ 1281 3584 2069 3584 \r\nQ 2775 3584 3186 3129 \r\nQ 3597 2675 3597 1894 \r\nz\r\nM 3022 2063 \r\nQ 3016 2534 2758 2815 \r\nQ 2500 3097 2075 3097 \r\nQ 1594 3097 1305 2825 \r\nQ 1016 2553 972 2059 \r\nL 3022 2063 \r\nz\r\n\" id=\"DejaVuSans-65\" transform=\"scale(0.015625)\"/>\r\n        <path d=\"M 3513 2113 \r\nL 3513 0 \r\nL 2938 0 \r\nL 2938 2094 \r\nQ 2938 2591 2744 2837 \r\nQ 2550 3084 2163 3084 \r\nQ 1697 3084 1428 2787 \r\nQ 1159 2491 1159 1978 \r\nL 1159 0 \r\nL 581 0 \r\nL 581 3500 \r\nL 1159 3500 \r\nL 1159 2956 \r\nQ 1366 3272 1645 3428 \r\nQ 1925 3584 2291 3584 \r\nQ 2894 3584 3203 3211 \r\nQ 3513 2838 3513 2113 \r\nz\r\n\" id=\"DejaVuSans-6e\" transform=\"scale(0.015625)\"/>\r\n       </defs>\r\n       <use xlink:href=\"#DejaVuSans-57\"/>\r\n       <use x=\"93.001953\" xlink:href=\"#DejaVuSans-6f\"/>\r\n       <use x=\"154.183594\" xlink:href=\"#DejaVuSans-6f\"/>\r\n       <use x=\"215.365234\" xlink:href=\"#DejaVuSans-64\"/>\r\n       <use x=\"278.841797\" xlink:href=\"#DejaVuSans-79\"/>\r\n       <use x=\"338.021484\" xlink:href=\"#DejaVuSans-20\"/>\r\n       <use x=\"369.808594\" xlink:href=\"#DejaVuSans-41\"/>\r\n       <use x=\"438.216797\" xlink:href=\"#DejaVuSans-6c\"/>\r\n       <use x=\"466\" xlink:href=\"#DejaVuSans-6c\"/>\r\n       <use x=\"493.783203\" xlink:href=\"#DejaVuSans-65\"/>\r\n       <use x=\"555.306641\" xlink:href=\"#DejaVuSans-6e\"/>\r\n      </g>\r\n     </g>\r\n    </g>\r\n    <g id=\"ytick_2\">\r\n     <g id=\"line2d_9\">\r\n      <g>\r\n       <use style=\"stroke:#000000;stroke-width:0.8;\" x=\"110.4125\" xlink:href=\"#m7e0cb1a809\" y=\"39.816\"/>\r\n      </g>\r\n     </g>\r\n     <g id=\"text_9\">\r\n      <!-- Steven Soderbergh -->\r\n      <g transform=\"translate(7.2 43.615219)scale(0.1 -0.1)\">\r\n       <defs>\r\n        <path d=\"M 3425 4513 \r\nL 3425 3897 \r\nQ 3066 4069 2747 4153 \r\nQ 2428 4238 2131 4238 \r\nQ 1616 4238 1336 4038 \r\nQ 1056 3838 1056 3469 \r\nQ 1056 3159 1242 3001 \r\nQ 1428 2844 1947 2747 \r\nL 2328 2669 \r\nQ 3034 2534 3370 2195 \r\nQ 3706 1856 3706 1288 \r\nQ 3706 609 3251 259 \r\nQ 2797 -91 1919 -91 \r\nQ 1588 -91 1214 -16 \r\nQ 841 59 441 206 \r\nL 441 856 \r\nQ 825 641 1194 531 \r\nQ 1563 422 1919 422 \r\nQ 2459 422 2753 634 \r\nQ 3047 847 3047 1241 \r\nQ 3047 1584 2836 1778 \r\nQ 2625 1972 2144 2069 \r\nL 1759 2144 \r\nQ 1053 2284 737 2584 \r\nQ 422 2884 422 3419 \r\nQ 422 4038 858 4394 \r\nQ 1294 4750 2059 4750 \r\nQ 2388 4750 2728 4690 \r\nQ 3069 4631 3425 4513 \r\nz\r\n\" id=\"DejaVuSans-53\" transform=\"scale(0.015625)\"/>\r\n        <path d=\"M 1172 4494 \r\nL 1172 3500 \r\nL 2356 3500 \r\nL 2356 3053 \r\nL 1172 3053 \r\nL 1172 1153 \r\nQ 1172 725 1289 603 \r\nQ 1406 481 1766 481 \r\nL 2356 481 \r\nL 2356 0 \r\nL 1766 0 \r\nQ 1100 0 847 248 \r\nQ 594 497 594 1153 \r\nL 594 3053 \r\nL 172 3053 \r\nL 172 3500 \r\nL 594 3500 \r\nL 594 4494 \r\nL 1172 4494 \r\nz\r\n\" id=\"DejaVuSans-74\" transform=\"scale(0.015625)\"/>\r\n        <path d=\"M 191 3500 \r\nL 800 3500 \r\nL 1894 563 \r\nL 2988 3500 \r\nL 3597 3500 \r\nL 2284 0 \r\nL 1503 0 \r\nL 191 3500 \r\nz\r\n\" id=\"DejaVuSans-76\" transform=\"scale(0.015625)\"/>\r\n        <path d=\"M 2631 2963 \r\nQ 2534 3019 2420 3045 \r\nQ 2306 3072 2169 3072 \r\nQ 1681 3072 1420 2755 \r\nQ 1159 2438 1159 1844 \r\nL 1159 0 \r\nL 581 0 \r\nL 581 3500 \r\nL 1159 3500 \r\nL 1159 2956 \r\nQ 1341 3275 1631 3429 \r\nQ 1922 3584 2338 3584 \r\nQ 2397 3584 2469 3576 \r\nQ 2541 3569 2628 3553 \r\nL 2631 2963 \r\nz\r\n\" id=\"DejaVuSans-72\" transform=\"scale(0.015625)\"/>\r\n        <path d=\"M 3116 1747 \r\nQ 3116 2381 2855 2742 \r\nQ 2594 3103 2138 3103 \r\nQ 1681 3103 1420 2742 \r\nQ 1159 2381 1159 1747 \r\nQ 1159 1113 1420 752 \r\nQ 1681 391 2138 391 \r\nQ 2594 391 2855 752 \r\nQ 3116 1113 3116 1747 \r\nz\r\nM 1159 2969 \r\nQ 1341 3281 1617 3432 \r\nQ 1894 3584 2278 3584 \r\nQ 2916 3584 3314 3078 \r\nQ 3713 2572 3713 1747 \r\nQ 3713 922 3314 415 \r\nQ 2916 -91 2278 -91 \r\nQ 1894 -91 1617 61 \r\nQ 1341 213 1159 525 \r\nL 1159 0 \r\nL 581 0 \r\nL 581 4863 \r\nL 1159 4863 \r\nL 1159 2969 \r\nz\r\n\" id=\"DejaVuSans-62\" transform=\"scale(0.015625)\"/>\r\n        <path d=\"M 2906 1791 \r\nQ 2906 2416 2648 2759 \r\nQ 2391 3103 1925 3103 \r\nQ 1463 3103 1205 2759 \r\nQ 947 2416 947 1791 \r\nQ 947 1169 1205 825 \r\nQ 1463 481 1925 481 \r\nQ 2391 481 2648 825 \r\nQ 2906 1169 2906 1791 \r\nz\r\nM 3481 434 \r\nQ 3481 -459 3084 -895 \r\nQ 2688 -1331 1869 -1331 \r\nQ 1566 -1331 1297 -1286 \r\nQ 1028 -1241 775 -1147 \r\nL 775 -588 \r\nQ 1028 -725 1275 -790 \r\nQ 1522 -856 1778 -856 \r\nQ 2344 -856 2625 -561 \r\nQ 2906 -266 2906 331 \r\nL 2906 616 \r\nQ 2728 306 2450 153 \r\nQ 2172 0 1784 0 \r\nQ 1141 0 747 490 \r\nQ 353 981 353 1791 \r\nQ 353 2603 747 3093 \r\nQ 1141 3584 1784 3584 \r\nQ 2172 3584 2450 3431 \r\nQ 2728 3278 2906 2969 \r\nL 2906 3500 \r\nL 3481 3500 \r\nL 3481 434 \r\nz\r\n\" id=\"DejaVuSans-67\" transform=\"scale(0.015625)\"/>\r\n        <path d=\"M 3513 2113 \r\nL 3513 0 \r\nL 2938 0 \r\nL 2938 2094 \r\nQ 2938 2591 2744 2837 \r\nQ 2550 3084 2163 3084 \r\nQ 1697 3084 1428 2787 \r\nQ 1159 2491 1159 1978 \r\nL 1159 0 \r\nL 581 0 \r\nL 581 4863 \r\nL 1159 4863 \r\nL 1159 2956 \r\nQ 1366 3272 1645 3428 \r\nQ 1925 3584 2291 3584 \r\nQ 2894 3584 3203 3211 \r\nQ 3513 2838 3513 2113 \r\nz\r\n\" id=\"DejaVuSans-68\" transform=\"scale(0.015625)\"/>\r\n       </defs>\r\n       <use xlink:href=\"#DejaVuSans-53\"/>\r\n       <use x=\"63.476562\" xlink:href=\"#DejaVuSans-74\"/>\r\n       <use x=\"102.685547\" xlink:href=\"#DejaVuSans-65\"/>\r\n       <use x=\"164.208984\" xlink:href=\"#DejaVuSans-76\"/>\r\n       <use x=\"223.388672\" xlink:href=\"#DejaVuSans-65\"/>\r\n       <use x=\"284.912109\" xlink:href=\"#DejaVuSans-6e\"/>\r\n       <use x=\"348.291016\" xlink:href=\"#DejaVuSans-20\"/>\r\n       <use x=\"380.078125\" xlink:href=\"#DejaVuSans-53\"/>\r\n       <use x=\"443.554688\" xlink:href=\"#DejaVuSans-6f\"/>\r\n       <use x=\"504.736328\" xlink:href=\"#DejaVuSans-64\"/>\r\n       <use x=\"568.212891\" xlink:href=\"#DejaVuSans-65\"/>\r\n       <use x=\"629.736328\" xlink:href=\"#DejaVuSans-72\"/>\r\n       <use x=\"670.849609\" xlink:href=\"#DejaVuSans-62\"/>\r\n       <use x=\"734.326172\" xlink:href=\"#DejaVuSans-65\"/>\r\n       <use x=\"795.849609\" xlink:href=\"#DejaVuSans-72\"/>\r\n       <use x=\"835.212891\" xlink:href=\"#DejaVuSans-67\"/>\r\n       <use x=\"898.689453\" xlink:href=\"#DejaVuSans-68\"/>\r\n      </g>\r\n     </g>\r\n    </g>\r\n    <g id=\"ytick_3\">\r\n     <g id=\"line2d_10\">\r\n      <g>\r\n       <use style=\"stroke:#000000;stroke-width:0.8;\" x=\"110.4125\" xlink:href=\"#m7e0cb1a809\" y=\"61.56\"/>\r\n      </g>\r\n     </g>\r\n     <g id=\"text_10\">\r\n      <!-- Clint Eastwood -->\r\n      <g transform=\"translate(29.096875 65.359219)scale(0.1 -0.1)\">\r\n       <defs>\r\n        <path d=\"M 4122 4306 \r\nL 4122 3641 \r\nQ 3803 3938 3442 4084 \r\nQ 3081 4231 2675 4231 \r\nQ 1875 4231 1450 3742 \r\nQ 1025 3253 1025 2328 \r\nQ 1025 1406 1450 917 \r\nQ 1875 428 2675 428 \r\nQ 3081 428 3442 575 \r\nQ 3803 722 4122 1019 \r\nL 4122 359 \r\nQ 3791 134 3420 21 \r\nQ 3050 -91 2638 -91 \r\nQ 1578 -91 968 557 \r\nQ 359 1206 359 2328 \r\nQ 359 3453 968 4101 \r\nQ 1578 4750 2638 4750 \r\nQ 3056 4750 3426 4639 \r\nQ 3797 4528 4122 4306 \r\nz\r\n\" id=\"DejaVuSans-43\" transform=\"scale(0.015625)\"/>\r\n        <path d=\"M 603 3500 \r\nL 1178 3500 \r\nL 1178 0 \r\nL 603 0 \r\nL 603 3500 \r\nz\r\nM 603 4863 \r\nL 1178 4863 \r\nL 1178 4134 \r\nL 603 4134 \r\nL 603 4863 \r\nz\r\n\" id=\"DejaVuSans-69\" transform=\"scale(0.015625)\"/>\r\n        <path d=\"M 628 4666 \r\nL 3578 4666 \r\nL 3578 4134 \r\nL 1259 4134 \r\nL 1259 2753 \r\nL 3481 2753 \r\nL 3481 2222 \r\nL 1259 2222 \r\nL 1259 531 \r\nL 3634 531 \r\nL 3634 0 \r\nL 628 0 \r\nL 628 4666 \r\nz\r\n\" id=\"DejaVuSans-45\" transform=\"scale(0.015625)\"/>\r\n        <path d=\"M 2194 1759 \r\nQ 1497 1759 1228 1600 \r\nQ 959 1441 959 1056 \r\nQ 959 750 1161 570 \r\nQ 1363 391 1709 391 \r\nQ 2188 391 2477 730 \r\nQ 2766 1069 2766 1631 \r\nL 2766 1759 \r\nL 2194 1759 \r\nz\r\nM 3341 1997 \r\nL 3341 0 \r\nL 2766 0 \r\nL 2766 531 \r\nQ 2569 213 2275 61 \r\nQ 1981 -91 1556 -91 \r\nQ 1019 -91 701 211 \r\nQ 384 513 384 1019 \r\nQ 384 1609 779 1909 \r\nQ 1175 2209 1959 2209 \r\nL 2766 2209 \r\nL 2766 2266 \r\nQ 2766 2663 2505 2880 \r\nQ 2244 3097 1772 3097 \r\nQ 1472 3097 1187 3025 \r\nQ 903 2953 641 2809 \r\nL 641 3341 \r\nQ 956 3463 1253 3523 \r\nQ 1550 3584 1831 3584 \r\nQ 2591 3584 2966 3190 \r\nQ 3341 2797 3341 1997 \r\nz\r\n\" id=\"DejaVuSans-61\" transform=\"scale(0.015625)\"/>\r\n        <path d=\"M 2834 3397 \r\nL 2834 2853 \r\nQ 2591 2978 2328 3040 \r\nQ 2066 3103 1784 3103 \r\nQ 1356 3103 1142 2972 \r\nQ 928 2841 928 2578 \r\nQ 928 2378 1081 2264 \r\nQ 1234 2150 1697 2047 \r\nL 1894 2003 \r\nQ 2506 1872 2764 1633 \r\nQ 3022 1394 3022 966 \r\nQ 3022 478 2636 193 \r\nQ 2250 -91 1575 -91 \r\nQ 1294 -91 989 -36 \r\nQ 684 19 347 128 \r\nL 347 722 \r\nQ 666 556 975 473 \r\nQ 1284 391 1588 391 \r\nQ 1994 391 2212 530 \r\nQ 2431 669 2431 922 \r\nQ 2431 1156 2273 1281 \r\nQ 2116 1406 1581 1522 \r\nL 1381 1569 \r\nQ 847 1681 609 1914 \r\nQ 372 2147 372 2553 \r\nQ 372 3047 722 3315 \r\nQ 1072 3584 1716 3584 \r\nQ 2034 3584 2315 3537 \r\nQ 2597 3491 2834 3397 \r\nz\r\n\" id=\"DejaVuSans-73\" transform=\"scale(0.015625)\"/>\r\n        <path d=\"M 269 3500 \r\nL 844 3500 \r\nL 1563 769 \r\nL 2278 3500 \r\nL 2956 3500 \r\nL 3675 769 \r\nL 4391 3500 \r\nL 4966 3500 \r\nL 4050 0 \r\nL 3372 0 \r\nL 2619 2869 \r\nL 1863 0 \r\nL 1184 0 \r\nL 269 3500 \r\nz\r\n\" id=\"DejaVuSans-77\" transform=\"scale(0.015625)\"/>\r\n       </defs>\r\n       <use xlink:href=\"#DejaVuSans-43\"/>\r\n       <use x=\"69.824219\" xlink:href=\"#DejaVuSans-6c\"/>\r\n       <use x=\"97.607422\" xlink:href=\"#DejaVuSans-69\"/>\r\n       <use x=\"125.390625\" xlink:href=\"#DejaVuSans-6e\"/>\r\n       <use x=\"188.769531\" xlink:href=\"#DejaVuSans-74\"/>\r\n       <use x=\"227.978516\" xlink:href=\"#DejaVuSans-20\"/>\r\n       <use x=\"259.765625\" xlink:href=\"#DejaVuSans-45\"/>\r\n       <use x=\"322.949219\" xlink:href=\"#DejaVuSans-61\"/>\r\n       <use x=\"384.228516\" xlink:href=\"#DejaVuSans-73\"/>\r\n       <use x=\"436.328125\" xlink:href=\"#DejaVuSans-74\"/>\r\n       <use x=\"475.537109\" xlink:href=\"#DejaVuSans-77\"/>\r\n       <use x=\"557.324219\" xlink:href=\"#DejaVuSans-6f\"/>\r\n       <use x=\"618.505859\" xlink:href=\"#DejaVuSans-6f\"/>\r\n       <use x=\"679.6875\" xlink:href=\"#DejaVuSans-64\"/>\r\n      </g>\r\n     </g>\r\n    </g>\r\n    <g id=\"ytick_4\">\r\n     <g id=\"line2d_11\">\r\n      <g>\r\n       <use style=\"stroke:#000000;stroke-width:0.8;\" x=\"110.4125\" xlink:href=\"#m7e0cb1a809\" y=\"83.304\"/>\r\n      </g>\r\n     </g>\r\n     <g id=\"text_11\">\r\n      <!-- Steven Spielberg -->\r\n      <g transform=\"translate(18.210937 87.103219)scale(0.1 -0.1)\">\r\n       <defs>\r\n        <path d=\"M 1159 525 \r\nL 1159 -1331 \r\nL 581 -1331 \r\nL 581 3500 \r\nL 1159 3500 \r\nL 1159 2969 \r\nQ 1341 3281 1617 3432 \r\nQ 1894 3584 2278 3584 \r\nQ 2916 3584 3314 3078 \r\nQ 3713 2572 3713 1747 \r\nQ 3713 922 3314 415 \r\nQ 2916 -91 2278 -91 \r\nQ 1894 -91 1617 61 \r\nQ 1341 213 1159 525 \r\nz\r\nM 3116 1747 \r\nQ 3116 2381 2855 2742 \r\nQ 2594 3103 2138 3103 \r\nQ 1681 3103 1420 2742 \r\nQ 1159 2381 1159 1747 \r\nQ 1159 1113 1420 752 \r\nQ 1681 391 2138 391 \r\nQ 2594 391 2855 752 \r\nQ 3116 1113 3116 1747 \r\nz\r\n\" id=\"DejaVuSans-70\" transform=\"scale(0.015625)\"/>\r\n       </defs>\r\n       <use xlink:href=\"#DejaVuSans-53\"/>\r\n       <use x=\"63.476562\" xlink:href=\"#DejaVuSans-74\"/>\r\n       <use x=\"102.685547\" xlink:href=\"#DejaVuSans-65\"/>\r\n       <use x=\"164.208984\" xlink:href=\"#DejaVuSans-76\"/>\r\n       <use x=\"223.388672\" xlink:href=\"#DejaVuSans-65\"/>\r\n       <use x=\"284.912109\" xlink:href=\"#DejaVuSans-6e\"/>\r\n       <use x=\"348.291016\" xlink:href=\"#DejaVuSans-20\"/>\r\n       <use x=\"380.078125\" xlink:href=\"#DejaVuSans-53\"/>\r\n       <use x=\"443.554688\" xlink:href=\"#DejaVuSans-70\"/>\r\n       <use x=\"507.03125\" xlink:href=\"#DejaVuSans-69\"/>\r\n       <use x=\"534.814453\" xlink:href=\"#DejaVuSans-65\"/>\r\n       <use x=\"596.337891\" xlink:href=\"#DejaVuSans-6c\"/>\r\n       <use x=\"624.121094\" xlink:href=\"#DejaVuSans-62\"/>\r\n       <use x=\"687.597656\" xlink:href=\"#DejaVuSans-65\"/>\r\n       <use x=\"749.121094\" xlink:href=\"#DejaVuSans-72\"/>\r\n       <use x=\"788.484375\" xlink:href=\"#DejaVuSans-67\"/>\r\n      </g>\r\n     </g>\r\n    </g>\r\n    <g id=\"ytick_5\">\r\n     <g id=\"line2d_12\">\r\n      <g>\r\n       <use style=\"stroke:#000000;stroke-width:0.8;\" x=\"110.4125\" xlink:href=\"#m7e0cb1a809\" y=\"105.048\"/>\r\n      </g>\r\n     </g>\r\n     <g id=\"text_12\">\r\n      <!-- Richard Linklater -->\r\n      <g transform=\"translate(18.690625 108.847219)scale(0.1 -0.1)\">\r\n       <defs>\r\n        <path d=\"M 2841 2188 \r\nQ 3044 2119 3236 1894 \r\nQ 3428 1669 3622 1275 \r\nL 4263 0 \r\nL 3584 0 \r\nL 2988 1197 \r\nQ 2756 1666 2539 1819 \r\nQ 2322 1972 1947 1972 \r\nL 1259 1972 \r\nL 1259 0 \r\nL 628 0 \r\nL 628 4666 \r\nL 2053 4666 \r\nQ 2853 4666 3247 4331 \r\nQ 3641 3997 3641 3322 \r\nQ 3641 2881 3436 2590 \r\nQ 3231 2300 2841 2188 \r\nz\r\nM 1259 4147 \r\nL 1259 2491 \r\nL 2053 2491 \r\nQ 2509 2491 2742 2702 \r\nQ 2975 2913 2975 3322 \r\nQ 2975 3731 2742 3939 \r\nQ 2509 4147 2053 4147 \r\nL 1259 4147 \r\nz\r\n\" id=\"DejaVuSans-52\" transform=\"scale(0.015625)\"/>\r\n        <path d=\"M 3122 3366 \r\nL 3122 2828 \r\nQ 2878 2963 2633 3030 \r\nQ 2388 3097 2138 3097 \r\nQ 1578 3097 1268 2742 \r\nQ 959 2388 959 1747 \r\nQ 959 1106 1268 751 \r\nQ 1578 397 2138 397 \r\nQ 2388 397 2633 464 \r\nQ 2878 531 3122 666 \r\nL 3122 134 \r\nQ 2881 22 2623 -34 \r\nQ 2366 -91 2075 -91 \r\nQ 1284 -91 818 406 \r\nQ 353 903 353 1747 \r\nQ 353 2603 823 3093 \r\nQ 1294 3584 2113 3584 \r\nQ 2378 3584 2631 3529 \r\nQ 2884 3475 3122 3366 \r\nz\r\n\" id=\"DejaVuSans-63\" transform=\"scale(0.015625)\"/>\r\n        <path d=\"M 628 4666 \r\nL 1259 4666 \r\nL 1259 531 \r\nL 3531 531 \r\nL 3531 0 \r\nL 628 0 \r\nL 628 4666 \r\nz\r\n\" id=\"DejaVuSans-4c\" transform=\"scale(0.015625)\"/>\r\n        <path d=\"M 581 4863 \r\nL 1159 4863 \r\nL 1159 1991 \r\nL 2875 3500 \r\nL 3609 3500 \r\nL 1753 1863 \r\nL 3688 0 \r\nL 2938 0 \r\nL 1159 1709 \r\nL 1159 0 \r\nL 581 0 \r\nL 581 4863 \r\nz\r\n\" id=\"DejaVuSans-6b\" transform=\"scale(0.015625)\"/>\r\n       </defs>\r\n       <use xlink:href=\"#DejaVuSans-52\"/>\r\n       <use x=\"69.482422\" xlink:href=\"#DejaVuSans-69\"/>\r\n       <use x=\"97.265625\" xlink:href=\"#DejaVuSans-63\"/>\r\n       <use x=\"152.246094\" xlink:href=\"#DejaVuSans-68\"/>\r\n       <use x=\"215.625\" xlink:href=\"#DejaVuSans-61\"/>\r\n       <use x=\"276.904297\" xlink:href=\"#DejaVuSans-72\"/>\r\n       <use x=\"316.267578\" xlink:href=\"#DejaVuSans-64\"/>\r\n       <use x=\"379.744141\" xlink:href=\"#DejaVuSans-20\"/>\r\n       <use x=\"411.53125\" xlink:href=\"#DejaVuSans-4c\"/>\r\n       <use x=\"467.244141\" xlink:href=\"#DejaVuSans-69\"/>\r\n       <use x=\"495.027344\" xlink:href=\"#DejaVuSans-6e\"/>\r\n       <use x=\"558.40625\" xlink:href=\"#DejaVuSans-6b\"/>\r\n       <use x=\"616.316406\" xlink:href=\"#DejaVuSans-6c\"/>\r\n       <use x=\"644.099609\" xlink:href=\"#DejaVuSans-61\"/>\r\n       <use x=\"705.378906\" xlink:href=\"#DejaVuSans-74\"/>\r\n       <use x=\"744.587891\" xlink:href=\"#DejaVuSans-65\"/>\r\n       <use x=\"806.111328\" xlink:href=\"#DejaVuSans-72\"/>\r\n      </g>\r\n     </g>\r\n    </g>\r\n    <g id=\"ytick_6\">\r\n     <g id=\"line2d_13\">\r\n      <g>\r\n       <use style=\"stroke:#000000;stroke-width:0.8;\" x=\"110.4125\" xlink:href=\"#m7e0cb1a809\" y=\"126.792\"/>\r\n      </g>\r\n     </g>\r\n     <g id=\"text_13\">\r\n      <!-- Ron Howard -->\r\n      <g transform=\"translate(43.05 130.591219)scale(0.1 -0.1)\">\r\n       <defs>\r\n        <path d=\"M 628 4666 \r\nL 1259 4666 \r\nL 1259 2753 \r\nL 3553 2753 \r\nL 3553 4666 \r\nL 4184 4666 \r\nL 4184 0 \r\nL 3553 0 \r\nL 3553 2222 \r\nL 1259 2222 \r\nL 1259 0 \r\nL 628 0 \r\nL 628 4666 \r\nz\r\n\" id=\"DejaVuSans-48\" transform=\"scale(0.015625)\"/>\r\n       </defs>\r\n       <use xlink:href=\"#DejaVuSans-52\"/>\r\n       <use x=\"64.982422\" xlink:href=\"#DejaVuSans-6f\"/>\r\n       <use x=\"126.164062\" xlink:href=\"#DejaVuSans-6e\"/>\r\n       <use x=\"189.542969\" xlink:href=\"#DejaVuSans-20\"/>\r\n       <use x=\"221.330078\" xlink:href=\"#DejaVuSans-48\"/>\r\n       <use x=\"296.525391\" xlink:href=\"#DejaVuSans-6f\"/>\r\n       <use x=\"357.707031\" xlink:href=\"#DejaVuSans-77\"/>\r\n       <use x=\"439.494141\" xlink:href=\"#DejaVuSans-61\"/>\r\n       <use x=\"500.773438\" xlink:href=\"#DejaVuSans-72\"/>\r\n       <use x=\"540.136719\" xlink:href=\"#DejaVuSans-64\"/>\r\n      </g>\r\n     </g>\r\n    </g>\r\n    <g id=\"ytick_7\">\r\n     <g id=\"line2d_14\">\r\n      <g>\r\n       <use style=\"stroke:#000000;stroke-width:0.8;\" x=\"110.4125\" xlink:href=\"#m7e0cb1a809\" y=\"148.536\"/>\r\n      </g>\r\n     </g>\r\n     <g id=\"text_14\">\r\n      <!-- Ridley Scott -->\r\n      <g transform=\"translate(43.503125 152.335219)scale(0.1 -0.1)\">\r\n       <use xlink:href=\"#DejaVuSans-52\"/>\r\n       <use x=\"69.482422\" xlink:href=\"#DejaVuSans-69\"/>\r\n       <use x=\"97.265625\" xlink:href=\"#DejaVuSans-64\"/>\r\n       <use x=\"160.742188\" xlink:href=\"#DejaVuSans-6c\"/>\r\n       <use x=\"188.525391\" xlink:href=\"#DejaVuSans-65\"/>\r\n       <use x=\"250.048828\" xlink:href=\"#DejaVuSans-79\"/>\r\n       <use x=\"309.228516\" xlink:href=\"#DejaVuSans-20\"/>\r\n       <use x=\"341.015625\" xlink:href=\"#DejaVuSans-53\"/>\r\n       <use x=\"404.492188\" xlink:href=\"#DejaVuSans-63\"/>\r\n       <use x=\"459.472656\" xlink:href=\"#DejaVuSans-6f\"/>\r\n       <use x=\"520.654297\" xlink:href=\"#DejaVuSans-74\"/>\r\n       <use x=\"559.863281\" xlink:href=\"#DejaVuSans-74\"/>\r\n      </g>\r\n     </g>\r\n    </g>\r\n    <g id=\"ytick_8\">\r\n     <g id=\"line2d_15\">\r\n      <g>\r\n       <use style=\"stroke:#000000;stroke-width:0.8;\" x=\"110.4125\" xlink:href=\"#m7e0cb1a809\" y=\"170.28\"/>\r\n      </g>\r\n     </g>\r\n     <g id=\"text_15\">\r\n      <!-- Joel Schumacher -->\r\n      <g transform=\"translate(19.74375 174.079219)scale(0.1 -0.1)\">\r\n       <defs>\r\n        <path d=\"M 628 4666 \r\nL 1259 4666 \r\nL 1259 325 \r\nQ 1259 -519 939 -900 \r\nQ 619 -1281 -91 -1281 \r\nL -331 -1281 \r\nL -331 -750 \r\nL -134 -750 \r\nQ 284 -750 456 -515 \r\nQ 628 -281 628 325 \r\nL 628 4666 \r\nz\r\n\" id=\"DejaVuSans-4a\" transform=\"scale(0.015625)\"/>\r\n        <path d=\"M 544 1381 \r\nL 544 3500 \r\nL 1119 3500 \r\nL 1119 1403 \r\nQ 1119 906 1312 657 \r\nQ 1506 409 1894 409 \r\nQ 2359 409 2629 706 \r\nQ 2900 1003 2900 1516 \r\nL 2900 3500 \r\nL 3475 3500 \r\nL 3475 0 \r\nL 2900 0 \r\nL 2900 538 \r\nQ 2691 219 2414 64 \r\nQ 2138 -91 1772 -91 \r\nQ 1169 -91 856 284 \r\nQ 544 659 544 1381 \r\nz\r\nM 1991 3584 \r\nL 1991 3584 \r\nz\r\n\" id=\"DejaVuSans-75\" transform=\"scale(0.015625)\"/>\r\n        <path d=\"M 3328 2828 \r\nQ 3544 3216 3844 3400 \r\nQ 4144 3584 4550 3584 \r\nQ 5097 3584 5394 3201 \r\nQ 5691 2819 5691 2113 \r\nL 5691 0 \r\nL 5113 0 \r\nL 5113 2094 \r\nQ 5113 2597 4934 2840 \r\nQ 4756 3084 4391 3084 \r\nQ 3944 3084 3684 2787 \r\nQ 3425 2491 3425 1978 \r\nL 3425 0 \r\nL 2847 0 \r\nL 2847 2094 \r\nQ 2847 2600 2669 2842 \r\nQ 2491 3084 2119 3084 \r\nQ 1678 3084 1418 2786 \r\nQ 1159 2488 1159 1978 \r\nL 1159 0 \r\nL 581 0 \r\nL 581 3500 \r\nL 1159 3500 \r\nL 1159 2956 \r\nQ 1356 3278 1631 3431 \r\nQ 1906 3584 2284 3584 \r\nQ 2666 3584 2933 3390 \r\nQ 3200 3197 3328 2828 \r\nz\r\n\" id=\"DejaVuSans-6d\" transform=\"scale(0.015625)\"/>\r\n       </defs>\r\n       <use xlink:href=\"#DejaVuSans-4a\"/>\r\n       <use x=\"29.492188\" xlink:href=\"#DejaVuSans-6f\"/>\r\n       <use x=\"90.673828\" xlink:href=\"#DejaVuSans-65\"/>\r\n       <use x=\"152.197266\" xlink:href=\"#DejaVuSans-6c\"/>\r\n       <use x=\"179.980469\" xlink:href=\"#DejaVuSans-20\"/>\r\n       <use x=\"211.767578\" xlink:href=\"#DejaVuSans-53\"/>\r\n       <use x=\"275.244141\" xlink:href=\"#DejaVuSans-63\"/>\r\n       <use x=\"330.224609\" xlink:href=\"#DejaVuSans-68\"/>\r\n       <use x=\"393.603516\" xlink:href=\"#DejaVuSans-75\"/>\r\n       <use x=\"456.982422\" xlink:href=\"#DejaVuSans-6d\"/>\r\n       <use x=\"554.394531\" xlink:href=\"#DejaVuSans-61\"/>\r\n       <use x=\"615.673828\" xlink:href=\"#DejaVuSans-63\"/>\r\n       <use x=\"670.654297\" xlink:href=\"#DejaVuSans-68\"/>\r\n       <use x=\"734.033203\" xlink:href=\"#DejaVuSans-65\"/>\r\n       <use x=\"795.556641\" xlink:href=\"#DejaVuSans-72\"/>\r\n      </g>\r\n     </g>\r\n    </g>\r\n    <g id=\"ytick_9\">\r\n     <g id=\"line2d_16\">\r\n      <g>\r\n       <use style=\"stroke:#000000;stroke-width:0.8;\" x=\"110.4125\" xlink:href=\"#m7e0cb1a809\" y=\"192.024\"/>\r\n      </g>\r\n     </g>\r\n     <g id=\"text_16\">\r\n      <!-- Spike Lee -->\r\n      <g transform=\"translate(55.475 195.823219)scale(0.1 -0.1)\">\r\n       <use xlink:href=\"#DejaVuSans-53\"/>\r\n       <use x=\"63.476562\" xlink:href=\"#DejaVuSans-70\"/>\r\n       <use x=\"126.953125\" xlink:href=\"#DejaVuSans-69\"/>\r\n       <use x=\"154.736328\" xlink:href=\"#DejaVuSans-6b\"/>\r\n       <use x=\"209.021484\" xlink:href=\"#DejaVuSans-65\"/>\r\n       <use x=\"270.544922\" xlink:href=\"#DejaVuSans-20\"/>\r\n       <use x=\"302.332031\" xlink:href=\"#DejaVuSans-4c\"/>\r\n       <use x=\"356.294922\" xlink:href=\"#DejaVuSans-65\"/>\r\n       <use x=\"417.818359\" xlink:href=\"#DejaVuSans-65\"/>\r\n      </g>\r\n     </g>\r\n    </g>\r\n    <g id=\"ytick_10\">\r\n     <g id=\"line2d_17\">\r\n      <g>\r\n       <use style=\"stroke:#000000;stroke-width:0.8;\" x=\"110.4125\" xlink:href=\"#m7e0cb1a809\" y=\"213.768\"/>\r\n      </g>\r\n     </g>\r\n     <g id=\"text_17\">\r\n      <!-- Renny Harlin -->\r\n      <g transform=\"translate(39.335937 217.567219)scale(0.1 -0.1)\">\r\n       <use xlink:href=\"#DejaVuSans-52\"/>\r\n       <use x=\"64.982422\" xlink:href=\"#DejaVuSans-65\"/>\r\n       <use x=\"126.505859\" xlink:href=\"#DejaVuSans-6e\"/>\r\n       <use x=\"189.884766\" xlink:href=\"#DejaVuSans-6e\"/>\r\n       <use x=\"253.263672\" xlink:href=\"#DejaVuSans-79\"/>\r\n       <use x=\"312.443359\" xlink:href=\"#DejaVuSans-20\"/>\r\n       <use x=\"344.230469\" xlink:href=\"#DejaVuSans-48\"/>\r\n       <use x=\"419.425781\" xlink:href=\"#DejaVuSans-61\"/>\r\n       <use x=\"480.705078\" xlink:href=\"#DejaVuSans-72\"/>\r\n       <use x=\"521.818359\" xlink:href=\"#DejaVuSans-6c\"/>\r\n       <use x=\"549.601562\" xlink:href=\"#DejaVuSans-69\"/>\r\n       <use x=\"577.384766\" xlink:href=\"#DejaVuSans-6e\"/>\r\n      </g>\r\n     </g>\r\n    </g>\r\n   </g>\r\n   <g id=\"patch_13\">\r\n    <path d=\"M 110.4125 224.64 \r\nL 110.4125 7.2 \r\n\" style=\"fill:none;stroke:#000000;stroke-linecap:square;stroke-linejoin:miter;stroke-width:0.8;\"/>\r\n   </g>\r\n   <g id=\"patch_14\">\r\n    <path d=\"M 445.2125 224.64 \r\nL 445.2125 7.2 \r\n\" style=\"fill:none;stroke:#000000;stroke-linecap:square;stroke-linejoin:miter;stroke-width:0.8;\"/>\r\n   </g>\r\n   <g id=\"patch_15\">\r\n    <path d=\"M 110.4125 224.64 \r\nL 445.2125 224.64 \r\n\" style=\"fill:none;stroke:#000000;stroke-linecap:square;stroke-linejoin:miter;stroke-width:0.8;\"/>\r\n   </g>\r\n   <g id=\"patch_16\">\r\n    <path d=\"M 110.4125 7.2 \r\nL 445.2125 7.2 \r\n\" style=\"fill:none;stroke:#000000;stroke-linecap:square;stroke-linejoin:miter;stroke-width:0.8;\"/>\r\n   </g>\r\n  </g>\r\n </g>\r\n <defs>\r\n  <clipPath id=\"p0e45da6db5\">\r\n   <rect height=\"217.44\" width=\"334.8\" x=\"110.4125\" y=\"7.2\"/>\r\n  </clipPath>\r\n </defs>\r\n</svg>\r\n",
      "image/png": "[encoded data removed]"
     },
     "metadata": {
      "needs_background": "light"
     }
    }
   ],
   "source": [
    "df['directors'].value_counts()[0:10].plot(kind='barh').invert_yaxis()"
   ]
  },
  {
   "cell_type": "code",
   "execution_count": 17,
   "metadata": {},
   "outputs": [
    {
     "output_type": "execute_result",
     "data": {
      "text/plain": [
       "     imdb_title_id                                          title  year  \\\n",
       "1000     tt0111161                       The Shawshank Redemption  1994   \n",
       "4500     tt0468569                                The Dark Knight  2008   \n",
       "675      tt0259534            Ramayana: The Legend of Prince Rama  1992   \n",
       "1001     tt0110912                                   Pulp Fiction  1994   \n",
       "3250     tt0167260  The Lord of the Rings: The Return of the King  2003   \n",
       "\n",
       "     certificate                         genre  runtime  \\\n",
       "1000           R                         Drama  142 min   \n",
       "4500       PG-13          Action, Crime, Drama  152 min   \n",
       "675           PG  Animation, Action, Adventure  170 min   \n",
       "1001           R                  Crime, Drama  154 min   \n",
       "3250       PG-13      Action, Adventure, Drama  201 min   \n",
       "\n",
       "                                            description  IMDb_rating  \\\n",
       "1000  Two imprisoned men bond over a number of years...          9.3   \n",
       "4500  When the menace known as the Joker wreaks havo...          9.0   \n",
       "675   An anime adaptation of the Hindu epic the Rama...          9.0   \n",
       "1001  The lives of two mob hitmen, a boxer, a gangst...          8.9   \n",
       "3250  Gandalf and Aragorn lead the World of Men agai...          8.9   \n",
       "\n",
       "      MetaScore  ratingCount                         directors  \\\n",
       "1000       80.0      2398475                    Frank Darabont   \n",
       "4500       84.0      2359640                 Christopher Nolan   \n",
       "675         NaN         2506  Ram Mohan,Yûgô Sakô,Koichi Saski   \n",
       "1001       94.0      1864905                 Quentin Tarantino   \n",
       "3250       94.0      1674567                     Peter Jackson   \n",
       "\n",
       "                                                  stars  \n",
       "1000  Tim Robbins,Morgan Freeman,Bob Gunton,William ...  \n",
       "4500  Christian Bale,Heath Ledger,Aaron Eckhart,Mich...  \n",
       "675   Bryan Cranston,Arun Govil,Edie Mirman,Rael Pad...  \n",
       "1001  John Travolta,Uma Thurman,Samuel L. Jackson,Br...  \n",
       "3250  Elijah Wood,Viggo Mortensen,Ian McKellen,Orlan...  "
      ],
      "text/html": "<div>\n<style scoped>\n    .dataframe tbody tr th:only-of-type {\n        vertical-align: middle;\n    }\n\n    .dataframe tbody tr th {\n        vertical-align: top;\n    }\n\n    .dataframe thead th {\n        text-align: right;\n    }\n</style>\n<table border=\"1\" class=\"dataframe\">\n  <thead>\n    <tr style=\"text-align: right;\">\n      <th></th>\n      <th>imdb_title_id</th>\n      <th>title</th>\n      <th>year</th>\n      <th>certificate</th>\n      <th>genre</th>\n      <th>runtime</th>\n      <th>description</th>\n      <th>IMDb_rating</th>\n      <th>MetaScore</th>\n      <th>ratingCount</th>\n      <th>directors</th>\n      <th>stars</th>\n    </tr>\n  </thead>\n  <tbody>\n    <tr>\n      <th>1000</th>\n      <td>tt0111161</td>\n      <td>The Shawshank Redemption</td>\n      <td>1994</td>\n      <td>R</td>\n      <td>Drama</td>\n      <td>142 min</td>\n      <td>Two imprisoned men bond over a number of years...</td>\n      <td>9.3</td>\n      <td>80.0</td>\n      <td>2398475</td>\n      <td>Frank Darabont</td>\n      <td>Tim Robbins,Morgan Freeman,Bob Gunton,William ...</td>\n    </tr>\n    <tr>\n      <th>4500</th>\n      <td>tt0468569</td>\n      <td>The Dark Knight</td>\n      <td>2008</td>\n      <td>PG-13</td>\n      <td>Action, Crime, Drama</td>\n      <td>152 min</td>\n      <td>When the menace known as the Joker wreaks havo...</td>\n      <td>9.0</td>\n      <td>84.0</td>\n      <td>2359640</td>\n      <td>Christopher Nolan</td>\n      <td>Christian Bale,Heath Ledger,Aaron Eckhart,Mich...</td>\n    </tr>\n    <tr>\n      <th>675</th>\n      <td>tt0259534</td>\n      <td>Ramayana: The Legend of Prince Rama</td>\n      <td>1992</td>\n      <td>PG</td>\n      <td>Animation, Action, Adventure</td>\n      <td>170 min</td>\n      <td>An anime adaptation of the Hindu epic the Rama...</td>\n      <td>9.0</td>\n      <td>NaN</td>\n      <td>2506</td>\n      <td>Ram Mohan,Yûgô Sakô,Koichi Saski</td>\n      <td>Bryan Cranston,Arun Govil,Edie Mirman,Rael Pad...</td>\n    </tr>\n    <tr>\n      <th>1001</th>\n      <td>tt0110912</td>\n      <td>Pulp Fiction</td>\n      <td>1994</td>\n      <td>R</td>\n      <td>Crime, Drama</td>\n      <td>154 min</td>\n      <td>The lives of two mob hitmen, a boxer, a gangst...</td>\n      <td>8.9</td>\n      <td>94.0</td>\n      <td>1864905</td>\n      <td>Quentin Tarantino</td>\n      <td>John Travolta,Uma Thurman,Samuel L. Jackson,Br...</td>\n    </tr>\n    <tr>\n      <th>3250</th>\n      <td>tt0167260</td>\n      <td>The Lord of the Rings: The Return of the King</td>\n      <td>2003</td>\n      <td>PG-13</td>\n      <td>Action, Adventure, Drama</td>\n      <td>201 min</td>\n      <td>Gandalf and Aragorn lead the World of Men agai...</td>\n      <td>8.9</td>\n      <td>94.0</td>\n      <td>1674567</td>\n      <td>Peter Jackson</td>\n      <td>Elijah Wood,Viggo Mortensen,Ian McKellen,Orlan...</td>\n    </tr>\n  </tbody>\n</table>\n</div>"
     },
     "metadata": {},
     "execution_count": 17
    }
   ],
   "source": [
    "df.sort_values(['IMDb_rating','ratingCount'],ascending=[False,False]).head()"
   ]
  },
  {
   "cell_type": "code",
   "execution_count": 18,
   "metadata": {
    "tags": []
   },
   "outputs": [],
   "source": [
    "#Extract keywords\n",
    "r = Rake()\n",
    "def rake_implement(x,r):\n",
    "     r.extract_keywords_from_text(x)\n",
    "     return r.get_ranked_phrases()\n",
    "\n",
    "df['keywords'] =df['description'].apply(lambda x: rake_implement(x,r))"
   ]
  },
  {
   "cell_type": "code",
   "execution_count": 19,
   "metadata": {},
   "outputs": [],
   "source": [
    "df['genre']     = df['genre'].map(lambda x: x.split(','))\n",
    "df['stars']     = df['stars'].map(lambda x: x.split(','))\n",
    "df['directors'] = df['directors'].map(lambda x: x.split(','))\n",
    "\n",
    "for index, row in df.iterrows():\n",
    "     df.at[index,'genre']     = [x.lower().replace(' ','') for x in row['genre']]\n",
    "     df.at[index,'stars']     = [x.lower().replace(' ','') for x in row['stars']]\n",
    "     df.at[index,'directors'] = [x.lower().replace(' ','') for x in row['directors']]"
   ]
  },
  {
   "cell_type": "code",
   "execution_count": 20,
   "metadata": {},
   "outputs": [
    {
     "output_type": "execute_result",
     "data": {
      "text/plain": [
       "  imdb_title_id                        title  year certificate  \\\n",
       "0     tt0099685                   Goodfellas  1990           R   \n",
       "1     tt0099785                   Home Alone  1990          PG   \n",
       "2     tt0099487          Edward Scissorhands  1990       PG-13   \n",
       "3     tt0099088  Back to the Future Part III  1990          PG   \n",
       "4     tt0099674      The Godfather: Part III  1990           R   \n",
       "\n",
       "                         genre  runtime  \\\n",
       "0    [biography, crime, drama]  146 min   \n",
       "1             [comedy, family]  103 min   \n",
       "2    [drama, fantasy, romance]  105 min   \n",
       "3  [adventure, comedy, sci-fi]  118 min   \n",
       "4               [crime, drama]  162 min   \n",
       "\n",
       "                                         description  IMDb_rating  MetaScore  \\\n",
       "0  The story of Henry Hill and his life in the mo...          8.7       90.0   \n",
       "1  An eight-year-old troublemaker must protect hi...          7.6       63.0   \n",
       "2  An artificial man, who was incompletely constr...          7.9       74.0   \n",
       "3  Stranded in 1955, Marty McFly learns about the...          7.4       55.0   \n",
       "4  Follows Michael Corleone, now in his 60s, as h...          7.6       60.0   \n",
       "\n",
       "   ratingCount             directors  \\\n",
       "0      1044112      [martinscorsese]   \n",
       "1       497130       [chriscolumbus]   \n",
       "2       453499           [timburton]   \n",
       "3       412989      [robertzemeckis]   \n",
       "4       368052  [francisfordcoppola]   \n",
       "\n",
       "                                               stars  \\\n",
       "0  [robertdeniro, rayliotta, joepesci, lorrainebr...   \n",
       "1  [macaulayculkin, joepesci, danielstern, johnhe...   \n",
       "2  [johnnydepp, winonaryder, diannewiest, anthony...   \n",
       "3  [michaelj.fox, christopherlloyd, marysteenburg...   \n",
       "4    [alpacino, dianekeaton, andygarcia, taliashire]   \n",
       "\n",
       "                                            keywords  \n",
       "0  [mob partners jimmy conway, american crime syn...  \n",
       "1  [old troublemaker must protect, accidentally l...  \n",
       "2  [suburban lady meets, solitary life, one day, ...  \n",
       "3  [two must figure, must travel back, marty mcfl...  \n",
       "4  [follows michael corleone, suitable successor,...  "
      ],
      "text/html": "<div>\n<style scoped>\n    .dataframe tbody tr th:only-of-type {\n        vertical-align: middle;\n    }\n\n    .dataframe tbody tr th {\n        vertical-align: top;\n    }\n\n    .dataframe thead th {\n        text-align: right;\n    }\n</style>\n<table border=\"1\" class=\"dataframe\">\n  <thead>\n    <tr style=\"text-align: right;\">\n      <th></th>\n      <th>imdb_title_id</th>\n      <th>title</th>\n      <th>year</th>\n      <th>certificate</th>\n      <th>genre</th>\n      <th>runtime</th>\n      <th>description</th>\n      <th>IMDb_rating</th>\n      <th>MetaScore</th>\n      <th>ratingCount</th>\n      <th>directors</th>\n      <th>stars</th>\n      <th>keywords</th>\n    </tr>\n  </thead>\n  <tbody>\n    <tr>\n      <th>0</th>\n      <td>tt0099685</td>\n      <td>Goodfellas</td>\n      <td>1990</td>\n      <td>R</td>\n      <td>[biography, crime, drama]</td>\n      <td>146 min</td>\n      <td>The story of Henry Hill and his life in the mo...</td>\n      <td>8.7</td>\n      <td>90.0</td>\n      <td>1044112</td>\n      <td>[martinscorsese]</td>\n      <td>[robertdeniro, rayliotta, joepesci, lorrainebr...</td>\n      <td>[mob partners jimmy conway, american crime syn...</td>\n    </tr>\n    <tr>\n      <th>1</th>\n      <td>tt0099785</td>\n      <td>Home Alone</td>\n      <td>1990</td>\n      <td>PG</td>\n      <td>[comedy, family]</td>\n      <td>103 min</td>\n      <td>An eight-year-old troublemaker must protect hi...</td>\n      <td>7.6</td>\n      <td>63.0</td>\n      <td>497130</td>\n      <td>[chriscolumbus]</td>\n      <td>[macaulayculkin, joepesci, danielstern, johnhe...</td>\n      <td>[old troublemaker must protect, accidentally l...</td>\n    </tr>\n    <tr>\n      <th>2</th>\n      <td>tt0099487</td>\n      <td>Edward Scissorhands</td>\n      <td>1990</td>\n      <td>PG-13</td>\n      <td>[drama, fantasy, romance]</td>\n      <td>105 min</td>\n      <td>An artificial man, who was incompletely constr...</td>\n      <td>7.9</td>\n      <td>74.0</td>\n      <td>453499</td>\n      <td>[timburton]</td>\n      <td>[johnnydepp, winonaryder, diannewiest, anthony...</td>\n      <td>[suburban lady meets, solitary life, one day, ...</td>\n    </tr>\n    <tr>\n      <th>3</th>\n      <td>tt0099088</td>\n      <td>Back to the Future Part III</td>\n      <td>1990</td>\n      <td>PG</td>\n      <td>[adventure, comedy, sci-fi]</td>\n      <td>118 min</td>\n      <td>Stranded in 1955, Marty McFly learns about the...</td>\n      <td>7.4</td>\n      <td>55.0</td>\n      <td>412989</td>\n      <td>[robertzemeckis]</td>\n      <td>[michaelj.fox, christopherlloyd, marysteenburg...</td>\n      <td>[two must figure, must travel back, marty mcfl...</td>\n    </tr>\n    <tr>\n      <th>4</th>\n      <td>tt0099674</td>\n      <td>The Godfather: Part III</td>\n      <td>1990</td>\n      <td>R</td>\n      <td>[crime, drama]</td>\n      <td>162 min</td>\n      <td>Follows Michael Corleone, now in his 60s, as h...</td>\n      <td>7.6</td>\n      <td>60.0</td>\n      <td>368052</td>\n      <td>[francisfordcoppola]</td>\n      <td>[alpacino, dianekeaton, andygarcia, taliashire]</td>\n      <td>[follows michael corleone, suitable successor,...</td>\n    </tr>\n  </tbody>\n</table>\n</div>"
     },
     "metadata": {},
     "execution_count": 20
    }
   ],
   "source": [
    "df.head()"
   ]
  },
  {
   "cell_type": "code",
   "execution_count": 21,
   "metadata": {
    "tags": []
   },
   "outputs": [],
   "source": [
    "df['bagofwords'] = ''\n",
    "\n",
    "#mentioning multiple times to increase weight\n",
    "columns = ['genre', 'directors', 'stars','genre', 'directors', 'stars', 'keywords']\n",
    "for index, row in df.iterrows():\n",
    "    words = ''\n",
    "    for col in columns:\n",
    "        words += ' '.join(row[col]) + ' '\n",
    "    df.at[index,'bagofwords'] = words\n",
    "df = df[['title','bagofwords']]\n",
    "df.to_csv('final.csv')"
   ]
  },
  {
   "cell_type": "code",
   "execution_count": 22,
   "metadata": {},
   "outputs": [],
   "source": [
    "count = CountVectorizer()\n",
    "count_matrix = count.fit_transform(df['bagofwords'])\n",
    "cosine_sim = cosine_similarity(count_matrix, count_matrix)\n",
    "# filesize too large \n",
    "# np.save('cosine_sim.npy', cosine_sim)"
   ]
  },
  {
   "cell_type": "code",
   "execution_count": 23,
   "metadata": {},
   "outputs": [],
   "source": [
    "indices = pd.Series(df['title'])"
   ]
  },
  {
   "cell_type": "code",
   "execution_count": 28,
   "metadata": {},
   "outputs": [],
   "source": [
    "def recomovie(title, cosine_sim = cosine_sim):\n",
    "    recommended_movies = []\n",
    "    idx = indices[indices == title].index[0]\n",
    "    score_series = pd.Series(cosine_sim[idx]).sort_values(ascending = False)\n",
    "    top_10_indices = list(score_series.iloc[1:11].index)\n",
    "    \n",
    "    for i in top_10_indices:\n",
    "        recommended_movies.append(list(df['title'])[i])\n",
    "        \n",
    "    return recommended_movies"
   ]
  },
  {
   "cell_type": "code",
   "execution_count": 29,
   "metadata": {},
   "outputs": [
    {
     "output_type": "execute_result",
     "data": {
      "text/plain": [
       "['Rocky Balboa',\n",
       " 'The Power of One',\n",
       " '8 Seconds',\n",
       " 'Driven',\n",
       " 'Creed II',\n",
       " 'Creed',\n",
       " 'Grudge Match',\n",
       " 'Inferno',\n",
       " 'Hardball',\n",
       " 'The Express']"
      ]
     },
     "metadata": {},
     "execution_count": 29
    }
   ],
   "source": [
    "recomovie('Rocky V')"
   ]
  }
 ]
}